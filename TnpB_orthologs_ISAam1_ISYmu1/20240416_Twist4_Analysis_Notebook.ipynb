{
 "cells": [
  {
   "cell_type": "code",
   "execution_count": 134,
   "metadata": {
    "metadata": {}
   },
   "outputs": [],
   "source": [
    "import pandas as pd\n",
    "import seaborn as sns\n",
    "import matplotlib as mpl\n",
    "import matplotlib.pyplot as plt\n",
    "import numpy as np\n",
    "from scipy.stats import gaussian_kde\n",
    "import scipy.stats as stats\n",
    "from Bio.Seq import Seq\n",
    "from Bio.SeqUtils import MeltingTemp as mt\n",
    "import statsmodels.api as sm\n",
    "from statsmodels.formula.api import ols\n",
    "from Bio.SeqUtils import GC\n",
    "import numpy as np\n",
    "from collections import Counter, OrderedDict\n",
    "from os import listdir\n",
    "from itertools import product"
   ]
  },
  {
   "cell_type": "code",
   "execution_count": 135,
   "metadata": {
    "metadata": {}
   },
   "outputs": [],
   "source": [
    "lsize=14\n",
    "titlesize=16\n",
    "axesthickness = 1.5\n",
    "flierprops = dict(marker='o',markersize=1.5)\n",
    "boxplot_kwargs = {'widths':0.65, 'vert':True, 'patch_artist':True, 'boxprops':dict(facecolor='#FEFBF3'), 'whis':[5, 95]}\n",
    "bar_kwargs = {'color':'#C5DEFF', 'edgecolor':'#000000', 'capsize':4, 'linewidth':1.5}\n",
    "plt.rcParams['axes.linewidth'] = axesthickness\n",
    "mpl.rcParams['pdf.fonttype'] = 42\n",
    "mpl.rcParams['ps.fonttype'] = 42\n",
    "mpl.rcParams['font.family'] = 'Arial'"
   ]
  },
  {
   "cell_type": "code",
   "execution_count": 160,
   "metadata": {
    "metadata": {}
   },
   "outputs": [],
   "source": [
    "#editor to analyze below. To run each editor run the whole notebook with only the relevant editor uncommented.\n",
    "# editor_class = 'ISAam1'\n",
    "editor_class = 'ISYmu1'\n"
   ]
  },
  {
   "cell_type": "code",
   "execution_count": 161,
   "metadata": {
    "metadata": {}
   },
   "outputs": [],
   "source": [
    "#path='C:\\\\Users\\\\nimath\\\\switchdrive\\\\Institution\\\\PhD\\\\01_Experiments\\\\05_Various\\\\07_Kim_Marquart\\\\TnpB\\\\analysis\\\\AnalysisFiles\\\\'\n",
    "path='./fastq_twist4/'+editor_class+'/AnalysisFiles/'\n",
    "\n",
    "def list_files1(directory):\n",
    "    return [f for f in listdir(directory) if '.csv' in f]\n",
    "\n",
    "sampleinfodf = pd.read_excel('./sample_files/Sample_Info_'+editor_class+'.xlsx')\n",
    "sampleinfodf = sampleinfodf.set_index('short_name')\n",
    "\n",
    "sampledf = pd.DataFrame(columns=['filename','Library','Cell_line','Editor','Replicate'])\n",
    "filelist = list_files1(path)\n",
    "sampledf['filename'] = filelist\n",
    "if editor_class == 'ISYmu1':\n",
    "    sampledf['shortname'] = sampledf['filename'].apply(lambda x: x.split('_')[1])\n",
    "else:\n",
    "    sampledf['shortname'] = sampledf['filename'].apply(lambda x: '_'.join(x.split('-')[-1].split('_')[:-1]))\n",
    "sampledf = sampledf.set_index('shortname')\n",
    "sampledf['Library'] = 'twist4'\n",
    "sampledf['Cell_line'] = sampleinfodf['cell_line']\n",
    "sampledf['Editor'] = sampleinfodf['editor']\n",
    "# rename none to \"CTRL\"\n",
    "sampledf['Editor'] = sampledf['Editor'].apply(lambda x: 'CTRL' if x == 'none' else x)\n",
    "sampledf['Replicate'] = sampleinfodf['replicate'].astype(str)\n",
    "sampledf['Control'] = sampleinfodf['control_yes_no']\n",
    "sampledf['repname'] = sampledf.apply(lambda x: x.Editor+\"_\"+x.Replicate,axis=1)\n",
    "\n",
    "sampledf = sampledf.sort_values(by=['repname'])\n",
    "\n",
    "# only keep rep 1-3 (too many additional control reps, not needed for analysis)\n",
    "sampledf = sampledf[sampledf['Replicate'].isin(['1','2','3'])]"
   ]
  },
  {
   "cell_type": "code",
   "execution_count": 163,
   "metadata": {
    "metadata": {}
   },
   "outputs": [],
   "source": [
    "templatedf = pd.read_csv('./python_analysis_scripts/20240405_TnpB_'+editor_class+'_100member_REFERENCE.csv')"
   ]
  },
  {
   "cell_type": "code",
   "execution_count": 166,
   "metadata": {
    "metadata": {}
   },
   "outputs": [],
   "source": [
    "ctrllist = sampledf[sampledf['Editor'] == 'CTRL']\n",
    "ctrldf = templatedf.copy()\n",
    "for index, row in ctrllist.iterrows():\n",
    "    controlrepdf = pd.read_csv(path+row.filename)\n",
    "    ctrldf[row.repname+'_totalreads'] = controlrepdf['totalreads']\n",
    "    controlrepdf['percentageindel'] = controlrepdf.apply(lambda x: (x.indelcount/x.totalreads)*100 ,axis=1)\n",
    "    controlrepdf['percentageunedited'] = controlrepdf.apply(lambda x: (x.uneditedcount/x.totalreads)*100 ,axis=1)\n",
    "    ctrldf[row.repname+'_percentageunedited'] = controlrepdf['percentageunedited']\n",
    "    ctrldf[row.repname+'_percentageindel'] = controlrepdf['percentageindel']\n",
    "    ctrldf[row.repname+'_uneditedcount'] = controlrepdf['uneditedcount']\n",
    "    ctrldf[row.repname+'_indelcount'] = controlrepdf['indelcount']\n",
    "\n",
    "for index, row in ctrllist.iterrows():    \n",
    "    ctrldf = ctrldf[ctrldf[row.repname+'_totalreads'] > 100]\n",
    "    ctrldf = ctrldf[ctrldf[row.repname+'_percentageindel'] < 15]"
   ]
  },
  {
   "cell_type": "code",
   "execution_count": 126,
   "metadata": {
    "metadata": {}
   },
   "outputs": [],
   "source": [
    "editorlist = sampledf['Editor'].unique()\n",
    "editorlist = [x for x in editorlist if not 'CTRL' in x]\n",
    "experimentdict = {}\n",
    "for editor in editorlist:\n",
    "    experimentdf = templatedf.copy()\n",
    "    for index, row in sampledf[sampledf['Editor'] == editor].iterrows():\n",
    "        dataframe = pd.read_csv(path+row.filename)\n",
    "        dataframename = row.Editor+\"_\"+row.Replicate\n",
    "        experimentdf[dataframename+'_totalreads'] = dataframe['totalreads']\n",
    "        dataframe['percentageindel'] = dataframe.apply(lambda x: (x.indelcount/x.totalreads)*100 ,axis=1)\n",
    "        dataframe['percentageunedited'] = dataframe.apply(lambda x: (x.uneditedcount/x.totalreads)*100 ,axis=1)\n",
    "        experimentdf[dataframename+'_percentageunedited'] = dataframe['percentageunedited']\n",
    "        experimentdf[dataframename+'_percentageindel'] = dataframe['percentageindel']\n",
    "        experimentdf[dataframename+'_uneditedcount'] = dataframe['uneditedcount']\n",
    "        experimentdf[dataframename+'_indelcount'] = dataframe['indelcount']\n",
    "    replicates = list(sampledf[sampledf['Editor'] == editor].repname)\n",
    "    controldf = sampledf[(sampledf['Editor'] == 'CTRL')]\n",
    "    #controlname = controldf['Cell_line_Editor'] + '_' + controldf['Replicate']\n",
    "    \n",
    "    ctrluneditedlist = []\n",
    "    ctrlindellist = []\n",
    "    lib = \"twist4\"\n",
    "    for index, row in ctrllist.iterrows():\n",
    "        ctrluneditedlist.append(row.repname+'_percentageunedited')\n",
    "        ctrlindellist.append(row.repname+'_percentageindel')\n",
    "        \n",
    "    experimentdf[lib+'_ctr'+'_percentageunedited'] = ctrldf[ctrluneditedlist].mean(axis=1)\n",
    "    experimentdf[lib+'_ctr'+'_percentageindel'] = ctrldf[ctrlindellist].mean(axis=1)\n",
    "\n",
    "    cutoff = 100\n",
    "    initialtemplen = len(experimentdf)\n",
    "\n",
    "    for replicate in replicates:\n",
    "        experimentdf = experimentdf[experimentdf[replicate+'_totalreads']>cutoff]\n",
    "\n",
    "    experimentdict[editor] = experimentdf"
   ]
  },
  {
   "cell_type": "markdown",
   "metadata": {},
   "source": [
    "### Calculate editing characteristics for all experimental setups\n",
    "Also clip editing levels to be between 0-100."
   ]
  },
  {
   "cell_type": "code",
   "execution_count": 128,
   "metadata": {
    "metadata": {}
   },
   "outputs": [],
   "source": [
    "sampledf_woctr = sampledf[sampledf['Editor'] != 'CTRL']"
   ]
  },
  {
   "cell_type": "code",
   "execution_count": null,
   "metadata": {
    "metadata": {}
   },
   "outputs": [],
   "source": [
    "editordf = sampledf_woctr.copy()\n",
    "editordf = editordf[editordf['Replicate'] == \"1\"]\n",
    "editordf = editordf.set_index('Editor')\n",
    "\n",
    "cols = ['Cell_line', 'Library']\n",
    "editordf = editordf[cols]\n",
    "editordf"
   ]
  },
  {
   "cell_type": "code",
   "execution_count": null,
   "metadata": {
    "metadata": {}
   },
   "outputs": [],
   "source": [
    "for editor in experimentdict:\n",
    "    print(editor)\n",
    "    replicatelist = list(sampledf_woctr[sampledf_woctr['Editor'] == editor]['repname'])\n",
    "    ctrname = lib+'_ctr'\n",
    "    \n",
    "    for replicate in replicatelist:\n",
    "        print(replicate)\n",
    "        repnr = replicate.split('_')[-1]\n",
    "        experimentdict[editor][replicate+'_percentageindel_corrected_individual'] = experimentdict[editor].apply(lambda x: ((x[replicate+'_percentageindel']-x[ctrname+'_percentageindel'])/((100-x[ctrname+'_percentageindel'])/100)),axis=1)\n",
    "        editordf.at[editor,repnr +'_meanindel'] = None\n",
    "        editordf.at[editor,repnr +'_meanindel'] = experimentdict[editor][[replicate +'_percentageindel_corrected_individual']].mean()\n",
    "        \n",
    "    allreps = []\n",
    "    for index,row in sampledf_woctr[sampledf_woctr['Editor'] == editor].iterrows():\n",
    "        rep = row.Editor+'_'+row.Replicate\n",
    "        allreps.append(rep)\n",
    "        \n",
    "    print(allreps)    \n",
    "    experimentdict[editor][editor+'_averageindel'] = experimentdict[editor][[x +'_percentageindel_corrected_individual' for x in allreps]].mean(axis=1)\n",
    "    \n",
    "       \n",
    "    # Clip editing rates to be between 0 and 100\n",
    "    experimentdict[editor][editor+'_averageindel'] = experimentdict[editor][editor+'_averageindel'].clip(0,100)\n",
    "    \n",
    "    experimentdict[editor] = experimentdict[editor].dropna(subset=[editor+'_averageindel'])\n",
    "    \n",
    "\n",
    "    editordf.at[editor,'numberofvariants'] = len(experimentdict[editor])\n",
    "    editordf.at[editor,'meanindel'] = experimentdict[editor][editor+'_averageindel'].mean()\n",
    "    editordf.at[editor,'standarddeviation'] = experimentdict[editor][editor+'_averageindel'].std()\n",
    "    experimentdict[editor].to_csv('./fastq_twist4/'+editor_class+'/AnalysisFiles/summary/20240416_'+editor+'_analysis_dataframe.csv')"
   ]
  },
  {
   "cell_type": "code",
   "execution_count": 131,
   "metadata": {
    "metadata": {}
   },
   "outputs": [],
   "source": [
    "for index, row in editordf.iterrows():\n",
    "    editordf.at[index,'replicate_meanindel'] = (row['1_meanindel'] + row['2_meanindel'] + row['3_meanindel']) / 3\n",
    "    editordf.at[index,'replicate_std'] = np.std([row['1_meanindel'],row['2_meanindel'],row['3_meanindel']])"
   ]
  },
  {
   "cell_type": "code",
   "execution_count": null,
   "metadata": {
    "metadata": {}
   },
   "outputs": [],
   "source": [
    "editordf = editordf.sort_index()\n",
    "editordf['filename'] = editordf.apply(lambda x: '20240416_'+str(x.name)+'_analysis_dataframe.csv',axis=1)\n",
    "editordf.to_csv('./fastq_twist4/'+editor_class+'/AnalysisFiles/summary/20240416_'+editor_class+'_100member_nuclease_summary_mean_std.csv')\n",
    "editordf"
   ]
  }
 ],
 "metadata": {
  "kernelspec": {
   "display_name": "spyderenv",
   "language": "python",
   "name": "python3"
  },
  "language_info": {
   "codemirror_mode": {
    "name": "ipython",
    "version": 3
   },
   "file_extension": ".py",
   "mimetype": "text/x-python",
   "name": "python",
   "nbconvert_exporter": "python",
   "pygments_lexer": "ipython3",
   "version": "3.9.15"
  }
 },
 "nbformat": 4,
 "nbformat_minor": 2
}
